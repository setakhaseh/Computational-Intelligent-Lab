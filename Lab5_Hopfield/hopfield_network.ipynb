{
 "cells": [
  {
   "cell_type": "markdown",
   "metadata": {},
   "source": [
    "## AZ6 - HOPFIELD"
   ]
  },
  {
   "cell_type": "code",
   "execution_count": 384,
   "metadata": {},
   "outputs": [],
   "source": [
    "import numpy as np\n",
    "import matplotlib.pyplot as plt"
   ]
  },
  {
   "cell_type": "code",
   "execution_count": 385,
   "metadata": {},
   "outputs": [],
   "source": [
    "x = np.array([1, 1, 0, 0])\n",
    "x2=np.array([-1,-1,1,1])"
   ]
  },
  {
   "cell_type": "code",
   "execution_count": 386,
   "metadata": {},
   "outputs": [],
   "source": [
    "# Step 2: Calculate the weight matrix using Hebbian learning\n",
    "w1 = np.outer(x, x)  # Outer product of the pattern with itself\n",
    "np.fill_diagonal(w1, 0)  # Set diagonal elements to zero to avoid self-connections\n",
    "w2 = np.outer(x2,x2)\n",
    "np.fill_diagonal(w2, 0)"
   ]
  },
  {
   "cell_type": "code",
   "execution_count": 387,
   "metadata": {},
   "outputs": [
    {
     "name": "stdout",
     "output_type": "stream",
     "text": [
      "Weight matrix W:\n",
      "[[0 1 0 0]\n",
      " [1 0 0 0]\n",
      " [0 0 0 0]\n",
      " [0 0 0 0]]\n",
      "Weight matrix W2:\n",
      "[[ 0  1 -1 -1]\n",
      " [ 1  0 -1 -1]\n",
      " [-1 -1  0  1]\n",
      " [-1 -1  1  0]]\n"
     ]
    }
   ],
   "source": [
    "print(\"Weight matrix W:\")\n",
    "print(w1)\n",
    "print(\"Weight matrix W2:\")\n",
    "print(w2)"
   ]
  },
  {
   "cell_type": "code",
   "execution_count": 388,
   "metadata": {},
   "outputs": [
    {
     "name": "stdout",
     "output_type": "stream",
     "text": [
      "\n",
      "Initial state:\n",
      "[ 1  1 -1 -1]\n",
      "\n",
      "Updated state:\n",
      "[1 1 0 0]\n",
      "\n",
      "Updated state2:\n",
      "[ 1  1 -1 -1]\n"
     ]
    }
   ],
   "source": [
    "def update_hopfield(state, W):\n",
    "    return np.sign(np.dot(W, state))\n",
    "\n",
    "# Step 4: Test the Hopfield network by recalling the stored pattern\n",
    "# Define an initial state (can be the original pattern or a noisy version)\n",
    "initial_state = np.array([1, 1, -1, -1])  # You can modify this to test noisy inputs\n",
    "\n",
    "# Update the state using the Hopfield network\n",
    "updated_state = update_hopfield(initial_state, w1)\n",
    "updated_state2 = update_hopfield(initial_state, w2)\n",
    "\n",
    "print(\"\\nInitial state:\")\n",
    "print(initial_state)\n",
    "print(\"\\nUpdated state:\")\n",
    "print(updated_state)\n",
    "\n",
    "print(\"\\nUpdated state2:\")\n",
    "print(updated_state2)"
   ]
  },
  {
   "cell_type": "markdown",
   "metadata": {},
   "source": [
    "1-j"
   ]
  },
  {
   "cell_type": "code",
   "execution_count": 389,
   "metadata": {},
   "outputs": [
    {
     "name": "stdout",
     "output_type": "stream",
     "text": [
      "Weight matrix W:\n",
      "[[ 0  2 -1 -1]\n",
      " [ 2  0 -1 -1]\n",
      " [-1 -1  0  1]\n",
      " [-1 -1  1  0]]\n"
     ]
    }
   ],
   "source": [
    "W = w1 + w2\n",
    "\n",
    "# Step 4: Set the diagonal elements to zero to avoid self-connections\n",
    "np.fill_diagonal(W, 0)\n",
    "\n",
    "# Step 5: Display the final weight matrix\n",
    "print(\"Weight matrix W:\")\n",
    "print(W)"
   ]
  },
  {
   "cell_type": "code",
   "execution_count": 390,
   "metadata": {},
   "outputs": [
    {
     "name": "stdout",
     "output_type": "stream",
     "text": [
      "[ 1  1 -1 -1]\n"
     ]
    }
   ],
   "source": [
    "updated_state3 = update_hopfield(initial_state, W)\n",
    "print(updated_state3)"
   ]
  },
  {
   "cell_type": "code",
   "execution_count": 391,
   "metadata": {},
   "outputs": [],
   "source": [
    "# Step 1: Define the weight matrix from the image\n",
    "W = np.array([[0, 0, 1, -1],\n",
    "              [1, 0, 1, -1],\n",
    "              [1, 1, 0, -1],\n",
    "              [-1, -1, -1, 0]])\n"
   ]
  },
  {
   "cell_type": "code",
   "execution_count": 392,
   "metadata": {},
   "outputs": [],
   "source": [
    "# Step 2: Define the activation function (sign function for Hopfield networks)\n",
    "def activation(x):\n",
    "    return np.where(x >= 0, 1, -1)"
   ]
  },
  {
   "cell_type": "code",
   "execution_count": 393,
   "metadata": {},
   "outputs": [],
   "source": [
    "# Step 3: Define a function to update the network (synchronous update)\n",
    "def update_hopfield(state, W):\n",
    "    return activation(np.dot(W, state))"
   ]
  },
  {
   "cell_type": "code",
   "execution_count": 394,
   "metadata": {},
   "outputs": [],
   "source": [
    "# Step 4: Test the Hopfield network by recalling the stored pattern\n",
    "# Define an initial state (can be the original pattern or a noisy version)\n",
    "initial_state = np.array([1, 1, -1, -1])  # This can be modified for testing with noise"
   ]
  },
  {
   "cell_type": "code",
   "execution_count": 395,
   "metadata": {},
   "outputs": [
    {
     "name": "stdout",
     "output_type": "stream",
     "text": [
      "Initial state:\n",
      "[ 1  1 -1 -1]\n",
      "\n",
      "Updated state (after applying the weight matrix):\n",
      "[ 1  1  1 -1]\n"
     ]
    }
   ],
   "source": [
    "# Update the state using the Hopfield network\n",
    "updated_state = update_hopfield(initial_state, W)\n",
    "\n",
    "# Display results\n",
    "print(\"Initial state:\")\n",
    "print(initial_state)\n",
    "print(\"\\nUpdated state (after applying the weight matrix):\")\n",
    "print(updated_state)"
   ]
  },
  {
   "cell_type": "code",
   "execution_count": 396,
   "metadata": {},
   "outputs": [],
   "source": [
    "class HopfieldNetwork:\n",
    "    def __init__(self, patterns):\n",
    "        # Flatten the patterns and store them\n",
    "        self.patterns = np.array([p.flatten() for p in patterns])\n",
    "        self.size = self.patterns.shape[1]\n",
    "        self.weights = np.zeros((self.size, self.size))\n",
    "        # Train network with the given patterns\n",
    "        self.train()\n",
    "\n",
    "    def train(self):\n",
    "        # Hebbian learning rule for weight adjustment\n",
    "        for p in self.patterns:\n",
    "            self.weights += np.outer(p, p)\n",
    "        np.fill_diagonal(self.weights, 0)\n",
    "\n",
    "    def add_noise(self, pattern, noise_level):\n",
    "        noisy_pattern = pattern.flatten()\n",
    "        num_flips = int(noise_level * noisy_pattern.size)\n",
    "        flip_indices = np.random.choice(noisy_pattern.size, size=num_flips, replace=False)\n",
    "        noisy_pattern[flip_indices] *= -1\n",
    "        return noisy_pattern.reshape(pattern.shape)\n",
    "\n",
    "    def recall(self, pattern, steps=5):\n",
    "        # Recall the pattern through iterative update\n",
    "        pattern = pattern.flatten()\n",
    "        for _ in range(steps):\n",
    "            pattern = np.sign(np.dot(self.weights, pattern))\n",
    "        return pattern.reshape((9, 8))\n"
   ]
  },
  {
   "cell_type": "code",
   "execution_count": 397,
   "metadata": {},
   "outputs": [],
   "source": [
    "b = np.array([[ 1,  1,  1,  1,  1,  1,  1,  1],\n",
    "    [ 1,  1,  1,  1,  1,  1,  1,  1],\n",
    "    [ 1,  1,  1, 1, 1, 1, 1,  1],\n",
    "    [ -1,  1,  1,  1,  1,  1,  1,  -1],\n",
    "    [ -1,  -1,  -1, -1,  -1,  -1,  -1,  -1],\n",
    "    [ 1,  1,  1,  1,  1,  1,  1,  1],\n",
    "    [ 1,  1,  1,  1,  -1,  1,  1,  1],\n",
    "    [ 1,  1,  1,  1,  1,  1,  1,  1],\n",
    "    [1  ,1  ,1  ,1,1,1,1,1]])\n",
    "d = np.array([[ 1,  1,  1,  1,  1,  1,  1,  1],\n",
    "    [ 1,  1,  1,  -1,  -1,  1,  1,  1],\n",
    "    [ 1,  1,  1, 1, -1, -1, 1,  1],\n",
    "    [ 1,  1,  1,  1,  1,  -1,  -1, 1],\n",
    "    [ 1,  1,  1, 1,  1,  1,  -1,  -1],\n",
    "    [ 1,  1,  1,  1,  1,  -1,  -1, 1],\n",
    "    [ 1,  1,  1, 1, -1, -1, 1,  1],\n",
    "    [ 1,  1,  1,  -1,  -1,  1,  1,  1],\n",
    "    [1,  1,  1,  1,  1,  1,  1,  1]])\n",
    "k = np.array([[ 1,  1,  1,  1,  1,  1,  1,  -1],\n",
    "    [ 1,  1,  1,  1,  1,  1,  -1,  1],\n",
    "    [ 1,  1,  1, 1, 1, -1, 1,  1],\n",
    "    [ 1,  1,  1,  1,  -1,  1,  1, 1],\n",
    "    [ 1,  1,  1,  1,  -1,  1,  1, 1],\n",
    "    [ 1,  1,  1,  1,  -1,  1,  1, 1],\n",
    "    [ 1,  1,  1,  1,  -1,  1,  1, 1],\n",
    "    [ -1,  1,  1,  1,  -1,  1,  1,  1],\n",
    "    [-1,  -1,  -1,  -1,  -1,  1,  1,  1]])"
   ]
  },
  {
   "cell_type": "code",
   "execution_count": 398,
   "metadata": {},
   "outputs": [],
   "source": [
    "# Create and train the Hopfield Network\n",
    "hopfield_net = HopfieldNetwork([b, d, k])"
   ]
  },
  {
   "cell_type": "code",
   "execution_count": 399,
   "metadata": {},
   "outputs": [],
   "source": [
    "# Add noise to the 'b' pattern and attempt to recall\n",
    "noisy_b = hopfield_net.add_noise(b, noise_level=0.2)\n",
    "recalled_b = hopfield_net.recall(noisy_b)\n",
    "# Add noise to the 'd' pattern and attempt to recall\n",
    "noisy_d = hopfield_net.add_noise(d, noise_level=0.2)\n",
    "recalled_d = hopfield_net.recall(noisy_d)\n",
    "# Add noise to the 'k' pattern and attempt to recall\n",
    "noisy_k = hopfield_net.add_noise(k, noise_level=0.2)\n",
    "recalled_k = hopfield_net.recall(noisy_k)"
   ]
  },
  {
   "cell_type": "code",
   "execution_count": 400,
   "metadata": {},
   "outputs": [
    {
     "name": "stdout",
     "output_type": "stream",
     "text": [
      "Noisy Pattern:\n",
      " [[ 1  1 -1  1  1 -1  1  1]\n",
      " [ 1  1  1  1  1  1 -1 -1]\n",
      " [-1  1  1 -1  1  1 -1  1]\n",
      " [-1 -1  1  1  1 -1  1  1]\n",
      " [-1 -1 -1  1 -1 -1 -1 -1]\n",
      " [ 1  1  1  1  1  1  1  1]\n",
      " [-1  1  1  1 -1  1  1  1]\n",
      " [ 1  1 -1  1  1  1  1  1]\n",
      " [ 1  1 -1  1  1  1  1  1]]\n",
      "Recalled Pattern:\n",
      " [[ 1.  1.  1.  1.  1.  1.  1.  1.]\n",
      " [ 1.  1.  1.  1.  1.  1.  1.  1.]\n",
      " [ 1.  1.  1.  1.  1.  1.  1.  1.]\n",
      " [-1.  1.  1.  1.  1.  1.  1. -1.]\n",
      " [-1. -1. -1. -1. -1. -1. -1. -1.]\n",
      " [ 1.  1.  1.  1.  1.  1.  1.  1.]\n",
      " [ 1.  1.  1.  1. -1.  1.  1.  1.]\n",
      " [ 1.  1.  1.  1.  1.  1.  1.  1.]\n",
      " [ 1.  1.  1.  1.  1.  1.  1.  1.]]\n"
     ]
    }
   ],
   "source": [
    "print(\"Noisy Pattern:\\n\", noisy_b)\n",
    "print(\"Recalled Pattern:\\n\", recalled_b)"
   ]
  },
  {
   "cell_type": "code",
   "execution_count": 401,
   "metadata": {},
   "outputs": [],
   "source": [
    "def plot_pattern(pattern, title):\n",
    "    plt.imshow(pattern, cmap='gray', interpolation='nearest')\n",
    "    plt.title(title)\n",
    "    plt.axis('off')\n",
    "    plt.show()"
   ]
  },
  {
   "cell_type": "code",
   "execution_count": 402,
   "metadata": {},
   "outputs": [
    {
     "data": {
      "image/png": "[encoded data removed]",
      "text/plain": [
       "<Figure size 640x480 with 1 Axes>"
      ]
     },
     "metadata": {},
     "output_type": "display_data"
    },
    {
     "data": {
      "image/png": "[encoded data removed]",
      "text/plain": [
       "<Figure size 640x480 with 1 Axes>"
      ]
     },
     "metadata": {},
     "output_type": "display_data"
    }
   ],
   "source": [
    "plot_pattern(b, \"Original Pattern\")\n",
    "#plot_pattern(noisy_b, \"Noisy Pattern\")\n",
    "plot_pattern(recalled_b, \"Recalled Pattern\")"
   ]
  },
  {
   "cell_type": "code",
   "execution_count": 403,
   "metadata": {},
   "outputs": [
    {
     "data": {
      "image/png": "[encoded data removed]",
      "text/plain": [
       "<Figure size 640x480 with 1 Axes>"
      ]
     },
     "metadata": {},
     "output_type": "display_data"
    },
    {
     "data": {
      "image/png": "[encoded data removed]",
      "text/plain": [
       "<Figure size 640x480 with 1 Axes>"
      ]
     },
     "metadata": {},
     "output_type": "display_data"
    }
   ],
   "source": [
    "plot_pattern(d, \"Original Pattern\")\n",
    "#plot_pattern(noisy_d, \"Noisy Pattern\")\n",
    "plot_pattern(recalled_d, \"Recalled Pattern\")"
   ]
  },
  {
   "cell_type": "code",
   "execution_count": 404,
   "metadata": {},
   "outputs": [
    {
     "data": {
      "image/png": "[encoded data removed]",
      "text/plain": [
       "<Figure size 640x480 with 1 Axes>"
      ]
     },
     "metadata": {},
     "output_type": "display_data"
    },
    {
     "data": {
      "image/png": "[encoded data removed]",
      "text/plain": [
       "<Figure size 640x480 with 1 Axes>"
      ]
     },
     "metadata": {},
     "output_type": "display_data"
    }
   ],
   "source": [
    "plot_pattern(k, \"Original Pattern\")\n",
    "#plot_pattern(noisy_k, \"Noisy Pattern\")\n",
    "plot_pattern(recalled_k, \"Recalled Pattern\")"
   ]
  },
  {
   "cell_type": "markdown",
   "metadata": {},
   "source": [
    "Network successfully recalled patterns"
   ]
  },
  {
   "cell_type": "markdown",
   "metadata": {},
   "source": [
    "---"
   ]
  },
  {
   "cell_type": "markdown",
   "metadata": {},
   "source": [
    "### ***TAMRIN***"
   ]
  },
  {
   "cell_type": "markdown",
   "metadata": {},
   "source": [
    "##### **Q1**"
   ]
  },
  {
   "cell_type": "code",
   "execution_count": 405,
   "metadata": {},
   "outputs": [],
   "source": [
    "P = np.array([[ 1,  1,  1,  1,  1,  1,  1,  1],\n",
    "    [ 1,  1,  1,  1,  1,  1,  1,  1],\n",
    "    [ 1,  1,  1, 1, 1, 1, 1,  1],\n",
    "    [ -1,  1,  1,  1,  1,  1,  1,  -1],\n",
    "    [ -1,  -1,  -1, -1,  -1,  -1,  -1,  -1],\n",
    "    [ 1,  1,  1,  1,  1,  1,  1,  1],\n",
    "    [ 1,  1,  1,  -1,  -1,  1,  1,  1],\n",
    "    [ 1,  1,  1,  -1,  1,  1,  1,  1],\n",
    "    [1  ,1  ,1  ,1,1,1,1,1]])\n",
    "\n",
    "G = np.array([[ 1,  1,  1,  1,  -1,  1,  1,  -1],\n",
    "    [ 1,  1,  1,  -1,  1,  1,  -1,  1],\n",
    "    [ 1,  1,  1, 1, 1, -1, 1,  1],\n",
    "    [ 1,  1,  1,  1,  -1,  1,  1, 1],\n",
    "    [ 1,  1,  1,  1,  -1,  1,  1, 1],\n",
    "    [ 1,  1,  1,  1,  -1,  1,  1, 1],\n",
    "    [ 1,  1,  1,  1,  -1,  1,  1, 1],\n",
    "    [ -1,  1,  1,  1,  -1,  1,  1,  1],\n",
    "    [-1,  -1,  -1,  -1,  -1,  1,  1,  1]])\n"
   ]
  },
  {
   "cell_type": "code",
   "execution_count": 406,
   "metadata": {},
   "outputs": [],
   "source": [
    "hopfield_net2 = HopfieldNetwork([G,P])\n"
   ]
  },
  {
   "cell_type": "code",
   "execution_count": 407,
   "metadata": {},
   "outputs": [],
   "source": [
    "noisy_P = hopfield_net.add_noise(P, noise_level=0.4)\n",
    "recalled_P = hopfield_net.recall(noisy_P)\n",
    "noisy_G = hopfield_net.add_noise(G, noise_level=0.4)\n",
    "recalled_G = hopfield_net.recall(noisy_G)"
   ]
  },
  {
   "cell_type": "code",
   "execution_count": 408,
   "metadata": {},
   "outputs": [
    {
     "data": {
      "image/png": "[encoded data removed]",
      "text/plain": [
       "<Figure size 640x480 with 1 Axes>"
      ]
     },
     "metadata": {},
     "output_type": "display_data"
    },
    {
     "data": {
      "image/png": "[encoded data removed]",
      "text/plain": [
       "<Figure size 640x480 with 1 Axes>"
      ]
     },
     "metadata": {},
     "output_type": "display_data"
    },
    {
     "data": {
      "image/png": "[encoded data removed]",
      "text/plain": [
       "<Figure size 640x480 with 1 Axes>"
      ]
     },
     "metadata": {},
     "output_type": "display_data"
    },
    {
     "data": {
      "image/png": "[encoded data removed]",
      "text/plain": [
       "<Figure size 640x480 with 1 Axes>"
      ]
     },
     "metadata": {},
     "output_type": "display_data"
    }
   ],
   "source": [
    "plot_pattern(P, \"Original Pattern\")\n",
    "#plot_pattern(noisy_P, \"Noisy Pattern\")\n",
    "plot_pattern(recalled_P, \"Recalled Pattern\")\n",
    "\n",
    "plot_pattern(G, \"Original Pattern\")\n",
    "#plot_pattern(noisy_G, \"Noisy Pattern\")\n",
    "plot_pattern(recalled_G, \"Recalled Pattern\")"
   ]
  }
 ],
 "metadata": {
  "kernelspec": {
   "display_name": "Python 3",
   "language": "python",
   "name": "python3"
  },
  "language_info": {
   "codemirror_mode": {
    "name": "ipython",
    "version": 3
   },
   "file_extension": ".py",
   "mimetype": "text/x-python",
   "name": "python",
   "nbconvert_exporter": "python",
   "pygments_lexer": "ipython3",
   "version": "3.12.2"
  }
 },
 "nbformat": 4,
 "nbformat_minor": 2
}
