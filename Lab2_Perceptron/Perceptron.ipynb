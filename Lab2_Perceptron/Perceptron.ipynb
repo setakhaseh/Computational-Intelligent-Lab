{
 "cells": [
  {
   "cell_type": "code",
   "execution_count": 92,
   "metadata": {},
   "outputs": [],
   "source": [
    "import numpy as np\n",
    "from sklearn.datasets import load_breast_cancer\n",
    "from sklearn.model_selection import train_test_split\n",
    "from sklearn.preprocessing import StandardScaler"
   ]
  },
  {
   "cell_type": "code",
   "execution_count": 93,
   "metadata": {},
   "outputs": [],
   "source": [
    "dataset = load_breast_cancer()\n",
    "data = dataset['data']     # Input features (569 samples, 30 features)\n",
    "labels = dataset['target'].reshape(-1, 1) "
   ]
  },
  {
   "cell_type": "code",
   "execution_count": 94,
   "metadata": {},
   "outputs": [],
   "source": [
    "def sigmoid(x):\n",
    "    return 1 / (1 + np.exp(-x))\n",
    "\n",
    "def d_sigmoid(x):\n",
    "    return sigmoid(x) * (1 - sigmoid(x))"
   ]
  },
  {
   "cell_type": "code",
   "execution_count": 95,
   "metadata": {},
   "outputs": [],
   "source": [
    "class Perceptron:\n",
    " \n",
    " def __init__(self,lr):\n",
    "  self.weight = np.random.rand(30, 1)\n",
    "  self.threshold = np.random.rand(1, 1)\n",
    "  self.lr = lr # learning rate\n",
    "  #self.weight = np.random.random([500,1])\n",
    "  #self.threshold = np.random.random([1,1])\n",
    "\n",
    " def forward(self , x ):\n",
    "  self.x = x\n",
    "  self.out = np.dot( self.x, self.weight) +self.threshold\n",
    "  self.a_out = sigmoid(self.out)\n",
    "\n",
    "  return self.a_out\n",
    "\n",
    " def grad(self, x, y):\n",
    "  self.forward(x)\n",
    "  self.delta = d_sigmoid(self.out) * (self.a_out - y)\n",
    "  self.delta_w = self.lr * np.dot(self.x.T, self.delta)\n",
    "  self.delta_b = self.lr * np.sum(self.delta, axis=0, keepdims=True)\n",
    "\n",
    " def update(self):\n",
    "  self.weight -= self.delta_w  # Update weights\n",
    "  self.threshold -= self.delta_b  # Update bias\n"
   ]
  },
  {
   "cell_type": "code",
   "execution_count": 96,
   "metadata": {},
   "outputs": [],
   "source": [
    "\n",
    "X_train, X_test, y_train, y_test = train_test_split(data, labels , test_size=0.2)"
   ]
  },
  {
   "cell_type": "code",
   "execution_count": 97,
   "metadata": {},
   "outputs": [],
   "source": [
    "# Standardize the input data\n",
    "scaler = StandardScaler()\n",
    "X_train_scaled = scaler.fit_transform(X_train)\n",
    "X_test_scaled = scaler.transform(X_test)"
   ]
  },
  {
   "cell_type": "code",
   "execution_count": 98,
   "metadata": {},
   "outputs": [
    {
     "name": "stdout",
     "output_type": "stream",
     "text": [
      "Accuracy on test data: 96.49%\n"
     ]
    }
   ],
   "source": [
    "# Create a perceptron model with a learning rate of 0.01\n",
    "perceptron = Perceptron(lr=0.01)\n",
    "\n",
    "# Training\n",
    "epochs = 1000  # Number of iterations\n",
    "for epoch in range(epochs):\n",
    "    perceptron.grad(X_train_scaled, y_train)\n",
    "    perceptron.update() \n",
    "\n",
    "predictions = perceptron.forward(X_test_scaled)\n",
    "predictions = (predictions > 0.5).astype(int)  # Convertoutput to 0 or 1\n",
    "\n",
    "accuracy = np.mean(predictions == y_test)\n",
    "print(f\"Accuracy on test data: {accuracy * 100:.2f}%\")"
   ]
  }
 ],
 "metadata": {
  "kernelspec": {
   "display_name": "Python 3",
   "language": "python",
   "name": "python3"
  },
  "language_info": {
   "codemirror_mode": {
    "name": "ipython",
    "version": 3
   },
   "file_extension": ".py",
   "mimetype": "text/x-python",
   "name": "python",
   "nbconvert_exporter": "python",
   "pygments_lexer": "ipython3",
   "version": "3.12.2"
  }
 },
 "nbformat": 4,
 "nbformat_minor": 2
}
